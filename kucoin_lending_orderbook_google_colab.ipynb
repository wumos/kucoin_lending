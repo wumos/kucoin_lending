{
  "nbformat": 4,
  "nbformat_minor": 0,
  "metadata": {
    "colab": {
      "name": "kucoin_lending_orderbook.ipynb",
      "provenance": [],
      "collapsed_sections": [],
      "authorship_tag": "ABX9TyMqJWsrW8CF2T/QSwjMqRcN",
      "include_colab_link": true
    },
    "kernelspec": {
      "name": "python3",
      "display_name": "Python 3"
    }
  },
  "cells": [
    {
      "cell_type": "markdown",
      "metadata": {
        "id": "view-in-github",
        "colab_type": "text"
      },
      "source": [
        "<a href=\"https://colab.research.google.com/github/wumos/kucoin_lending/blob/main/kucoin_lending_orderbook_google_colab.ipynb\" target=\"_parent\"><img src=\"https://colab.research.google.com/assets/colab-badge.svg\" alt=\"Open In Colab\"/></a>"
      ]
    },
    {
      "cell_type": "code",
      "metadata": {
        "colab": {
          "base_uri": "https://localhost:8080/"
        },
        "id": "gS9SQTcAAski",
        "outputId": "3efdb268-5433-420e-e965-bcb00821b95d"
      },
      "source": [
        "# A lancer la première fois\r\n",
        "!pip install ccxt"
      ],
      "execution_count": 8,
      "outputs": [
        {
          "output_type": "stream",
          "text": [
            "Requirement already satisfied: ccxt in /usr/local/lib/python3.6/dist-packages (1.41.81)\n",
            "Requirement already satisfied: yarl==1.1.0; python_version >= \"3.5.2\" in /usr/local/lib/python3.6/dist-packages (from ccxt) (1.1.0)\n",
            "Requirement already satisfied: requests>=2.18.4 in /usr/local/lib/python3.6/dist-packages (from ccxt) (2.23.0)\n",
            "Requirement already satisfied: aiodns<2.1,>=1.1.1; python_version >= \"3.5.2\" in /usr/local/lib/python3.6/dist-packages (from ccxt) (2.0.0)\n",
            "Requirement already satisfied: setuptools>=38.5.1 in /usr/local/lib/python3.6/dist-packages (from ccxt) (53.0.0)\n",
            "Requirement already satisfied: certifi>=2018.1.18 in /usr/local/lib/python3.6/dist-packages (from ccxt) (2020.12.5)\n",
            "Requirement already satisfied: cryptography>=2.6.1 in /usr/local/lib/python3.6/dist-packages (from ccxt) (3.4.4)\n",
            "Requirement already satisfied: aiohttp<3.8,>=3.7.2; python_version >= \"3.5.2\" in /usr/local/lib/python3.6/dist-packages (from ccxt) (3.7.3)\n",
            "Requirement already satisfied: idna>=2.0 in /usr/local/lib/python3.6/dist-packages (from yarl==1.1.0; python_version >= \"3.5.2\"->ccxt) (2.10)\n",
            "Requirement already satisfied: multidict>=4.0 in /usr/local/lib/python3.6/dist-packages (from yarl==1.1.0; python_version >= \"3.5.2\"->ccxt) (5.1.0)\n",
            "Requirement already satisfied: urllib3!=1.25.0,!=1.25.1,<1.26,>=1.21.1 in /usr/local/lib/python3.6/dist-packages (from requests>=2.18.4->ccxt) (1.24.3)\n",
            "Requirement already satisfied: chardet<4,>=3.0.2 in /usr/local/lib/python3.6/dist-packages (from requests>=2.18.4->ccxt) (3.0.4)\n",
            "Requirement already satisfied: pycares>=3.0.0 in /usr/local/lib/python3.6/dist-packages (from aiodns<2.1,>=1.1.1; python_version >= \"3.5.2\"->ccxt) (3.1.1)\n",
            "Requirement already satisfied: typing; python_version < \"3.7\" in /usr/local/lib/python3.6/dist-packages (from aiodns<2.1,>=1.1.1; python_version >= \"3.5.2\"->ccxt) (3.7.4.3)\n",
            "Requirement already satisfied: cffi>=1.12 in /usr/local/lib/python3.6/dist-packages (from cryptography>=2.6.1->ccxt) (1.14.4)\n",
            "Requirement already satisfied: idna-ssl>=1.0; python_version < \"3.7\" in /usr/local/lib/python3.6/dist-packages (from aiohttp<3.8,>=3.7.2; python_version >= \"3.5.2\"->ccxt) (1.1.0)\n",
            "Requirement already satisfied: async-timeout<4.0,>=3.0 in /usr/local/lib/python3.6/dist-packages (from aiohttp<3.8,>=3.7.2; python_version >= \"3.5.2\"->ccxt) (3.0.1)\n",
            "Requirement already satisfied: typing-extensions>=3.6.5 in /usr/local/lib/python3.6/dist-packages (from aiohttp<3.8,>=3.7.2; python_version >= \"3.5.2\"->ccxt) (3.7.4.3)\n",
            "Requirement already satisfied: attrs>=17.3.0 in /usr/local/lib/python3.6/dist-packages (from aiohttp<3.8,>=3.7.2; python_version >= \"3.5.2\"->ccxt) (20.3.0)\n",
            "Requirement already satisfied: pycparser in /usr/local/lib/python3.6/dist-packages (from cffi>=1.12->cryptography>=2.6.1->ccxt) (2.20)\n"
          ],
          "name": "stdout"
        }
      ]
    },
    {
      "cell_type": "code",
      "metadata": {
        "id": "rsqbwFojA6i6"
      },
      "source": [
        "import ccxt\r\n",
        "import pandas as pd\r\n",
        "import matplotlib.pyplot as plt\r\n",
        "plt.style.use('ggplot')"
      ],
      "execution_count": 10,
      "outputs": []
    },
    {
      "cell_type": "code",
      "metadata": {
        "id": "K79VwiQgA7pS"
      },
      "source": [
        "# CCXT CONNECTION\r\n",
        "# pas besoin d'auth pour l'endpoint de l'orderbook\r\n",
        "exchange = ccxt.kucoin({\r\n",
        "\"apiKey\": \"nope\",\r\n",
        "\"secret\": \"nope\",\r\n",
        "\"password\": \"nope\",\r\n",
        "'enableRateLimit': True,\r\n",
        "})"
      ],
      "execution_count": 11,
      "outputs": []
    },
    {
      "cell_type": "code",
      "metadata": {
        "colab": {
          "base_uri": "https://localhost:8080/",
          "height": 299
        },
        "id": "AENdQ9WhBMct",
        "outputId": "426600cd-59b5-483c-8b1a-0f1da5a07b6f"
      },
      "source": [
        "# GET ORDERBOOK\r\n",
        "res = exchange.private_get_margin_market({'currency': 'USDT'})\r\n",
        "df = pd.DataFrame(res['data'])\r\n",
        "\r\n",
        "# ORDER BOOK DATAFRAME\r\n",
        "df['daily_rate'] = df['dailyIntRate'].astype(float)\r\n",
        "df['daily_rate'] = round(df['daily_rate']*100,1)\r\n",
        "df['size'] = df['size'].astype(float)\r\n",
        "\r\n",
        "# AGREGATION par daily_rate\r\n",
        "df_gr =df.groupby(['daily_rate']).agg({'size':'sum'})\r\n",
        "df_gr.reset_index(inplace=True)\r\n",
        "\r\n",
        "\r\n",
        "#plot\r\n",
        "fig,ax = plt.subplots(1)\r\n",
        "ax.barh(df_gr.daily_rate, width=df_gr['size'], height=0.1)\r\n",
        "ax.invert_xaxis()\r\n",
        "plt.title('Order Book Lending')\r\n",
        "plt.xlabel('USDT en millions')\r\n",
        "plt.ylabel('Taux % Journalier')\r\n",
        "fig.show()"
      ],
      "execution_count": 13,
      "outputs": [
        {
          "output_type": "display_data",
          "data": {
            "image/png": "[encoded data removed]",
            "text/plain": [
              "<Figure size 432x288 with 1 Axes>"
            ]
          },
          "metadata": {
            "tags": []
          }
        }
      ]
    }
  ]
}