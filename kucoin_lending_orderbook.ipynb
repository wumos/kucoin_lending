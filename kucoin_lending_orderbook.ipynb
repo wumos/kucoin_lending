{
 "cells": [
  {
   "cell_type": "code",
   "execution_count": 1,
   "metadata": {},
   "outputs": [
    {
     "data": {
      "image/png": "[encoded data removed]",
      "text/plain": [
       "<Figure size 432x288 with 1 Axes>"
      ]
     },
     "metadata": {
      "needs_background": "light"
     },
     "output_type": "display_data"
    }
   ],
   "source": [
    "import ccxt\n",
    "import pandas as pd\n",
    "import matplotlib.pyplot as plt\n",
    "\n",
    "\n",
    "# API INFO\n",
    "KEY= \"\"\n",
    "SECRET = \"\"\n",
    "PASSWORD = \"\"\n",
    "\n",
    "# CCXT CONNECTION\n",
    "exchange = ccxt.kucoin({\n",
    "\"apiKey\": KEY,\n",
    "\"secret\": SECRET,\n",
    "\"password\": PASSWORD,\n",
    "'enableRateLimit': True,\n",
    "})\n",
    "\n",
    "# GET ORDERBOOK\n",
    "res = exchange.private_get_margin_market({'currency': 'USDT'})\n",
    "df = pd.DataFrame(res['data'])\n",
    "\n",
    "# ORDER BOOK DATAFRAME\n",
    "df['daily_rate'] = df['dailyIntRate'].astype(float)\n",
    "df['daily_rate'] = round(df['daily_rate']*100,1)\n",
    "df['size'] = df['size'].astype(float)\n",
    "\n",
    "# AGREGATION par daily_rate\n",
    "df_gr =df.groupby(['daily_rate']).agg({'size':'sum'})\n",
    "df_gr.reset_index(inplace=True)\n",
    "\n",
    "\n",
    "#plot\n",
    "fig,ax = plt.subplots(1)\n",
    "ax.barh(df_gr.daily_rate, width=df_gr['size'], height=0.1)\n",
    "ax.invert_xaxis()\n",
    "plt.title('Order Book Lending')\n",
    "plt.xlabel('USDT en millions')\n",
    "plt.ylabel('Taux % Journalier')\n",
    "fig.show()"
   ]
  },
  {
   "cell_type": "code",
   "execution_count": null,
   "metadata": {},
   "outputs": [],
   "source": []
  }
 ],
 "metadata": {
  "kernelspec": {
   "display_name": "Python 3",
   "language": "python",
   "name": "python3"
  },
  "language_info": {
   "codemirror_mode": {
    "name": "ipython",
    "version": 3
   },
   "file_extension": ".py",
   "mimetype": "text/x-python",
   "name": "python",
   "nbconvert_exporter": "python",
   "pygments_lexer": "ipython3",
   "version": "3.8.3"
  }
 },
 "nbformat": 4,
 "nbformat_minor": 4
}
